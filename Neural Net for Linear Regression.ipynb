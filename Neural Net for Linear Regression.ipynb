{
 "cells": [
  {
   "cell_type": "code",
   "execution_count": 1,
   "metadata": {},
   "outputs": [],
   "source": [
    "import numpy as np\n",
    "import matplotlib.pyplot as plt\n",
    "import keras\n",
    "from keras.models import Sequential, Model\n",
    "from keras.layers import Input, Dense"
   ]
  },
  {
   "cell_type": "code",
   "execution_count": 14,
   "metadata": {},
   "outputs": [],
   "source": [
    "# Define training data --> linear function y=mx+b\n",
    "m, b = 2, 5\n",
    "x_train = np.arange(0,10,0.005)\n",
    "y_train = x_train*m+b\n",
    "\n",
    "x_test = np.arange(-1,11,0.005)\n",
    "y_test = x_test*m+b"
   ]
  },
  {
   "cell_type": "code",
   "execution_count": 37,
   "metadata": {},
   "outputs": [],
   "source": [
    "# Definition of the simple 1 neuron linear model\n",
    "\n",
    "# Input Layer\n",
    "input_layer = keras.layers.Input((1,))\n",
    "\n",
    "# Dense layer takes the input layer as its argument\n",
    "x = Dense(1, activation='linear')(input_layer)\n",
    "\n",
    "# The model is finally defined as the input and the last layer\n",
    "model = Model(inputs=input_layer, outputs=x)"
   ]
  },
  {
   "cell_type": "code",
   "execution_count": 4,
   "metadata": {},
   "outputs": [],
   "source": [
    "# Define loss function and optimizer\n",
    "model.compile(loss='mse', optimizer='sgd', metrics=['mse'])"
   ]
  },
  {
   "cell_type": "code",
   "execution_count": 5,
   "metadata": {},
   "outputs": [
    {
     "name": "stdout",
     "output_type": "stream",
     "text": [
      "Epoch 1/20\n",
      "200/200 [==============================] - 0s 598us/step - loss: 24.0066 - mse: 24.0066\n",
      "Epoch 2/20\n",
      "200/200 [==============================] - 0s 608us/step - loss: 0.4597 - mse: 0.4597\n",
      "Epoch 3/20\n",
      "200/200 [==============================] - 0s 608us/step - loss: 0.0634 - mse: 0.0634\n",
      "Epoch 4/20\n",
      "200/200 [==============================] - 0s 603us/step - loss: 0.0087 - mse: 0.0087\n",
      "Epoch 5/20\n",
      "200/200 [==============================] - 0s 642us/step - loss: 0.0013 - mse: 0.0013\n",
      "Epoch 6/20\n",
      "200/200 [==============================] - 0s 685us/step - loss: 1.8062e-04 - mse: 1.8062e-04\n",
      "Epoch 7/20\n",
      "200/200 [==============================] - 0s 648us/step - loss: 2.4680e-05 - mse: 2.4680e-05\n",
      "Epoch 8/20\n",
      "200/200 [==============================] - 0s 663us/step - loss: 3.4886e-06 - mse: 3.4886e-06\n",
      "Epoch 9/20\n",
      "200/200 [==============================] - 0s 648us/step - loss: 5.0740e-07 - mse: 5.0740e-07\n",
      "Epoch 10/20\n",
      "200/200 [==============================] - 0s 693us/step - loss: 6.8532e-08 - mse: 6.8532e-08\n",
      "Epoch 11/20\n",
      "200/200 [==============================] - 0s 744us/step - loss: 9.5838e-09 - mse: 9.5838e-09\n",
      "Epoch 12/20\n",
      "200/200 [==============================] - 0s 573us/step - loss: 1.3454e-09 - mse: 1.3454e-09\n",
      "Epoch 13/20\n",
      "200/200 [==============================] - 0s 598us/step - loss: 2.4466e-10 - mse: 2.4466e-10\n",
      "Epoch 14/20\n",
      "200/200 [==============================] - 0s 603us/step - loss: 1.3459e-10 - mse: 1.3459e-10\n",
      "Epoch 15/20\n",
      "200/200 [==============================] - 0s 548us/step - loss: 1.1506e-10 - mse: 1.1506e-10\n",
      "Epoch 16/20\n",
      "200/200 [==============================] - 0s 588us/step - loss: 1.0535e-10 - mse: 1.0535e-10\n",
      "Epoch 17/20\n",
      "200/200 [==============================] - 0s 573us/step - loss: 8.6504e-11 - mse: 8.6504e-11\n",
      "Epoch 18/20\n",
      "200/200 [==============================] - 0s 548us/step - loss: 8.9314e-11 - mse: 8.9314e-11\n",
      "Epoch 19/20\n",
      "200/200 [==============================] - 0s 568us/step - loss: 8.0878e-11 - mse: 8.0878e-11\n",
      "Epoch 20/20\n",
      "200/200 [==============================] - 0s 558us/step - loss: 7.6521e-11 - mse: 7.6521e-11\n"
     ]
    },
    {
     "data": {
      "text/plain": [
       "<tensorflow.python.keras.callbacks.History at 0x1fe7dd5f340>"
      ]
     },
     "execution_count": 5,
     "metadata": {},
     "output_type": "execute_result"
    }
   ],
   "source": [
    "# Fit\n",
    "model.fit(x_train, y_train, epochs=20, batch_size=10, verbose=1)"
   ]
  },
  {
   "cell_type": "code",
   "execution_count": 15,
   "metadata": {},
   "outputs": [
    {
     "name": "stdout",
     "output_type": "stream",
     "text": [
      "75/75 [==============================] - 0s 966us/step - loss: 9.9452e-11 - mse: 9.9452e-11\n",
      "\n",
      "mse: 0.00%\n",
      "\n",
      "loss: 0.00%\n"
     ]
    }
   ],
   "source": [
    "# Evaluate\n",
    "scores = model.evaluate(x_test, y_test)\n",
    "print(\"\\n%s: %.2f%%\" % (model.metrics_names[1], scores[1]*100))\n",
    "print(\"\\n%s: %.2f%%\" % (model.metrics_names[0], scores[0]*100))"
   ]
  },
  {
   "cell_type": "code",
   "execution_count": 22,
   "metadata": {},
   "outputs": [
    {
     "data": {
      "image/png": "[encoded data removed]",
      "text/plain": [
       "<Figure size 432x288 with 1 Axes>"
      ]
     },
     "metadata": {
      "needs_background": "light"
     },
     "output_type": "display_data"
    }
   ],
   "source": [
    "# Predict\n",
    "y_predictions=model.predict(x_test)\n",
    "\n",
    "# Plot predictions\n",
    "plt.figure(\"two plots\")\n",
    "plt.plot(x_test, y_test, label = 'Test set', color='g', linestyle='-')\n",
    "plt.plot(x_test, y_predictions+1, label = 'Predicted', color='r', linestyle='--')\n",
    "plt.xlim([0,12])\n",
    "plt.ylim([5,30])\n",
    "plt.xlabel('$x$')\n",
    "plt.ylabel('$y$')\n",
    "plt.legend(loc = 'best')\n",
    "plt.show()"
   ]
  },
  {
   "cell_type": "markdown",
   "metadata": {},
   "source": [
    "# Now let's learn a gaussian curve"
   ]
  },
  {
   "cell_type": "code",
   "execution_count": 24,
   "metadata": {},
   "outputs": [],
   "source": [
    "# Training data --> gaussian: y = e^(-x**2)\n",
    "x_train = np.arange(-5,5,0.005)\n",
    "y_train = np.exp(-x_train**2)\n",
    "\n",
    "x_test = np.random.random(size=50)*15-7.5 # x ~ U[-7.5,7.5]\n",
    "y_test = np.exp(-x_test**2)"
   ]
  },
  {
   "cell_type": "code",
   "execution_count": 29,
   "metadata": {},
   "outputs": [
    {
     "name": "stdout",
     "output_type": "stream",
     "text": [
      "Epoch 1/20\n",
      "200/200 [==============================] - 0s 690us/step - loss: 0.0885 - mse: 0.0885\n",
      "Epoch 2/20\n",
      "200/200 [==============================] - 0s 676us/step - loss: 0.0932 - mse: 0.0932\n",
      "Epoch 3/20\n",
      "200/200 [==============================] - 0s 645us/step - loss: 0.0927 - mse: 0.0927\n",
      "Epoch 4/20\n",
      "200/200 [==============================] - 0s 673us/step - loss: 0.0890 - mse: 0.0890\n",
      "Epoch 5/20\n",
      "200/200 [==============================] - 0s 633us/step - loss: 0.0930 - mse: 0.0930\n",
      "Epoch 6/20\n",
      "200/200 [==============================] - 0s 704us/step - loss: 0.0979 - mse: 0.0979\n",
      "Epoch 7/20\n",
      "200/200 [==============================] - 0s 764us/step - loss: 0.0993 - mse: 0.0993\n",
      "Epoch 8/20\n",
      "200/200 [==============================] - 0s 618us/step - loss: 0.0915 - mse: 0.0915\n",
      "Epoch 9/20\n",
      "200/200 [==============================] - 0s 630us/step - loss: 0.0965 - mse: 0.0965\n",
      "Epoch 10/20\n",
      "200/200 [==============================] - 0s 619us/step - loss: 0.0925 - mse: 0.0925\n",
      "Epoch 11/20\n",
      "200/200 [==============================] - 0s 642us/step - loss: 0.0962 - mse: 0.0962\n",
      "Epoch 12/20\n",
      "200/200 [==============================] - 0s 620us/step - loss: 0.0938 - mse: 0.0938\n",
      "Epoch 13/20\n",
      "200/200 [==============================] - 0s 539us/step - loss: 0.1004 - mse: 0.1004\n",
      "Epoch 14/20\n",
      "200/200 [==============================] - 0s 611us/step - loss: 0.0877 - mse: 0.0877\n",
      "Epoch 15/20\n",
      "200/200 [==============================] - 0s 613us/step - loss: 0.0929 - mse: 0.0929\n",
      "Epoch 16/20\n",
      "200/200 [==============================] - 0s 628us/step - loss: 0.0921 - mse: 0.0921\n",
      "Epoch 17/20\n",
      "200/200 [==============================] - 0s 635us/step - loss: 0.0958 - mse: 0.0958\n",
      "Epoch 18/20\n",
      "200/200 [==============================] - 0s 663us/step - loss: 0.0976 - mse: 0.0976\n",
      "Epoch 19/20\n",
      "200/200 [==============================] - 0s 621us/step - loss: 0.0992 - mse: 0.0992\n",
      "Epoch 20/20\n",
      "200/200 [==============================] - 0s 616us/step - loss: 0.0997 - mse: 0.0997\n"
     ]
    },
    {
     "data": {
      "text/plain": [
       "<tensorflow.python.keras.callbacks.History at 0x1fe7f6c8f10>"
      ]
     },
     "execution_count": 29,
     "metadata": {},
     "output_type": "execute_result"
    }
   ],
   "source": [
    "# Let's reuse the same architecture as before\n",
    "model2 = Model(inputs=input_layer, outputs=x)\n",
    "\n",
    "# Same loss function and optimizer\n",
    "model2.compile(loss='mse', optimizer='sgd', metrics=['mse'])\n",
    "\n",
    "# Fit \n",
    "model2.fit(x_train, y_train, epochs=20, batch_size=10, verbose=0)"
   ]
  },
  {
   "cell_type": "code",
   "execution_count": 30,
   "metadata": {},
   "outputs": [
    {
     "name": "stdout",
     "output_type": "stream",
     "text": [
      "2/2 [==============================] - 0s 0s/step - loss: 0.1052 - mse: 0.1052\n",
      "\n",
      "mse: 10.52%\n",
      "\n",
      "loss: 10.52%\n"
     ]
    }
   ],
   "source": [
    "# Evaluate test data\n",
    "scores = model2.evaluate(x_test, y_test)\n",
    "print(\"\\n%s: %.2f%%\" % (model2.metrics_names[1], scores[1]*100))\n",
    "print(\"\\n%s: %.2f%%\" % (model2.metrics_names[0], scores[0]*100))"
   ]
  },
  {
   "cell_type": "code",
   "execution_count": 43,
   "metadata": {},
   "outputs": [
    {
     "data": {
      "image/png": "[encoded data removed]",
      "text/plain": [
       "<Figure size 432x288 with 1 Axes>"
      ]
     },
     "metadata": {
      "needs_background": "light"
     },
     "output_type": "display_data"
    }
   ],
   "source": [
    "# Predict\n",
    "y_predictions=model2.predict(x_test)\n",
    "\n",
    "# Plot predictions\n",
    "plt.scatter(x_test, y_test, label = 'Test set', color='g', marker='x')\n",
    "plt.scatter(x_test, y_predictions, label = 'Predicted', color='r', marker='o')\n",
    "plt.xlabel('$x$')\n",
    "plt.ylabel('$y$')\n",
    "plt.legend(loc = 'best')\n",
    "plt.show()"
   ]
  },
  {
   "cell_type": "markdown",
   "metadata": {},
   "source": [
    "## What happened? We tried modelling non-linear data with a linear model! Let's change the activation function"
   ]
  },
  {
   "cell_type": "code",
   "execution_count": 38,
   "metadata": {},
   "outputs": [
    {
     "data": {
      "text/plain": [
       "<tensorflow.python.keras.callbacks.History at 0x1fe7fe17520>"
      ]
     },
     "execution_count": 38,
     "metadata": {},
     "output_type": "execute_result"
    }
   ],
   "source": [
    "# Let's define a new model, with a hidden layer of 8 neurons\n",
    "input_layer = Input((1,))\n",
    "x = Dense(8, activation='tanh')(input_layer) #8 neurons\n",
    "x = Dense(1, activation='relu')(x)\n",
    "model3 = Model(inputs=input_layer, outputs=x)\n",
    "\n",
    "\n",
    "# Same loss function and optimizer\n",
    "model3.compile(loss='mse', optimizer='sgd', metrics=['mse'])\n",
    "\n",
    "# Fit \n",
    "model3.fit(x_train, y_train, epochs=20, batch_size=10, verbose=0)"
   ]
  },
  {
   "cell_type": "code",
   "execution_count": 41,
   "metadata": {},
   "outputs": [
    {
     "name": "stdout",
     "output_type": "stream",
     "text": [
      "2/2 [==============================] - 0s 0s/step - loss: 8.1401e-04 - mse: 8.1401e-04\n",
      "\n",
      "mse: 0.08%\n",
      "\n",
      "loss: 0.08%\n"
     ]
    }
   ],
   "source": [
    "# Evaluate test data\n",
    "scores = model3.evaluate(x_test, y_test)\n",
    "print(\"\\n%s: %.2f%%\" % (model3.metrics_names[1], scores[1]*100))\n",
    "print(\"\\n%s: %.2f%%\" % (model3.metrics_names[0], scores[0]*100))"
   ]
  },
  {
   "cell_type": "code",
   "execution_count": 44,
   "metadata": {},
   "outputs": [
    {
     "data": {
      "image/png": "[encoded data removed]",
      "text/plain": [
       "<Figure size 432x288 with 1 Axes>"
      ]
     },
     "metadata": {
      "needs_background": "light"
     },
     "output_type": "display_data"
    }
   ],
   "source": [
    "# Predict\n",
    "y_predictions=model3.predict(x_test)\n",
    "\n",
    "# Plot predictions\n",
    "plt.scatter(x_test, y_test, label = 'Test set', color='g', marker='x')\n",
    "plt.scatter(x_test, y_predictions, label = 'Predicted', color='r', marker='o')\n",
    "plt.xlabel('$x$')\n",
    "plt.ylabel('$y$')\n",
    "plt.legend(loc = 'best')\n",
    "plt.show()"
   ]
  },
  {
   "cell_type": "code",
   "execution_count": 48,
   "metadata": {},
   "outputs": [
    {
     "data": {
      "image/png": "[encoded data removed]",
      "text/plain": [
       "<Figure size 432x288 with 1 Axes>"
      ]
     },
     "metadata": {
      "needs_background": "light"
     },
     "output_type": "display_data"
    }
   ],
   "source": [
    "# Let's see the curves that the neural net draws\n",
    "x_test = np.arange(-8,8,0.005)\n",
    "y_test = np.exp(-x_test**2)\n",
    "\n",
    "# Predict\n",
    "y_predictions=model3.predict(x_test)\n",
    "\n",
    "# Plot predictions\n",
    "plt.plot(x_test, y_test, label = 'Test set', color='g', linestyle='-')\n",
    "plt.plot(x_test, y_predictions, label = 'Predicted', color='r', linestyle='--')\n",
    "plt.xlabel('$x$')\n",
    "plt.ylabel('$y$')\n",
    "plt.legend(loc = 'best')\n",
    "plt.show()"
   ]
  },
  {
   "cell_type": "markdown",
   "metadata": {},
   "source": [
    "### Now we have a prediction curve that looks much more like the curve we expect to obtain.\n",
    "### Adding more neurons to the hidden layer will enhance the results."
   ]
  },
  {
   "cell_type": "code",
   "execution_count": 68,
   "metadata": {},
   "outputs": [
    {
     "data": {
      "text/plain": [
       "<tensorflow.python.keras.callbacks.History at 0x1fe05431370>"
      ]
     },
     "execution_count": 68,
     "metadata": {},
     "output_type": "execute_result"
    }
   ],
   "source": [
    "input_layer = Input((1,))\n",
    "x = Dense(16, activation='tanh')(input_layer) #16 neurons\n",
    "x = Dense(1, activation='relu')(x)\n",
    "model4 = Model(inputs=input_layer, outputs=x)\n",
    "model4.compile(loss='mse', optimizer='sgd', metrics=['mse'])\n",
    "model4.fit(x_train, y_train, epochs=50, batch_size=10, verbose=0) #Now do 50 epochs instead of 20"
   ]
  },
  {
   "cell_type": "code",
   "execution_count": 69,
   "metadata": {},
   "outputs": [
    {
     "data": {
      "image/png": "[encoded data removed]",
      "text/plain": [
       "<Figure size 432x288 with 1 Axes>"
      ]
     },
     "metadata": {
      "needs_background": "light"
     },
     "output_type": "display_data"
    }
   ],
   "source": [
    "# Plotting predictions\n",
    "y_predictions=model4.predict(x_test)\n",
    "plt.plot(x_test, y_test, label = 'Test set', color='g', linestyle='-')\n",
    "plt.plot(x_test, y_predictions, label = 'Predicted', color='r', linestyle='--')\n",
    "plt.xlabel('$x$')\n",
    "plt.ylabel('$y$')\n",
    "plt.legend(loc = 'best')\n",
    "plt.show()"
   ]
  },
  {
   "cell_type": "markdown",
   "metadata": {},
   "source": [
    "### Using 2 hidden layers"
   ]
  },
  {
   "cell_type": "code",
   "execution_count": 82,
   "metadata": {},
   "outputs": [
    {
     "data": {
      "text/plain": [
       "<tensorflow.python.keras.callbacks.History at 0x1fe083a41f0>"
      ]
     },
     "execution_count": 82,
     "metadata": {},
     "output_type": "execute_result"
    }
   ],
   "source": [
    "input_layer = Input((1,))\n",
    "x = Dense(16, activation='tanh')(input_layer) #16 neurons\n",
    "x = Dense(8, activation='tanh')(x)\n",
    "x = Dense(1, activation='relu')(x)\n",
    "model5 = Model(inputs=input_layer, outputs=x)\n",
    "model5.compile(loss='mse', optimizer='sgd', metrics=['mse'])\n",
    "model5.fit(x_train, y_train, epochs=50, batch_size=10, verbose=0) #Now do 50 epochs instead of 20"
   ]
  },
  {
   "cell_type": "code",
   "execution_count": 83,
   "metadata": {},
   "outputs": [
    {
     "data": {
      "image/png": "[encoded data removed]",
      "text/plain": [
       "<Figure size 432x288 with 1 Axes>"
      ]
     },
     "metadata": {
      "needs_background": "light"
     },
     "output_type": "display_data"
    }
   ],
   "source": [
    "# Plotting predictions\n",
    "y_predictions=model5.predict(x_test)\n",
    "plt.plot(x_test, y_test, label = 'Test set', color='g', linestyle='-')\n",
    "plt.plot(x_test, y_predictions, label = 'Predicted', color='r', linestyle='--')\n",
    "plt.xlabel('$x$')\n",
    "plt.ylabel('$y$')\n",
    "plt.legend(loc = 'best')\n",
    "plt.show()"
   ]
  }
 ],
 "metadata": {
  "kernelspec": {
   "display_name": "Python 3",
   "language": "python",
   "name": "python3"
  },
  "language_info": {
   "codemirror_mode": {
    "name": "ipython",
    "version": 3
   },
   "file_extension": ".py",
   "mimetype": "text/x-python",
   "name": "python",
   "nbconvert_exporter": "python",
   "pygments_lexer": "ipython3",
   "version": "3.8.3"
  }
 },
 "nbformat": 4,
 "nbformat_minor": 4
}
